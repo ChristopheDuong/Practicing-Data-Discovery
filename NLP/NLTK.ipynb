{
 "metadata": {
  "name": "",
  "signature": "sha256:15f23dd2904b6a57a5d645413087eb300433f9c406435cd47816dbcc108ee21d"
 },
 "nbformat": 3,
 "nbformat_minor": 0,
 "worksheets": [
  {
   "cells": [
    {
     "cell_type": "heading",
     "level": 1,
     "metadata": {},
     "source": [
      "NLTK Wordnet"
     ]
    },
    {
     "cell_type": "markdown",
     "metadata": {},
     "source": [
      "Print (in  whatever  format/order)  the  words  and PoS tags  of  the  defini8on  of  the  first wordnet sense retrieved for the  word 'cat'"
     ]
    },
    {
     "cell_type": "code",
     "collapsed": false,
     "input": [
      "from nltk.corpus import wordnet as wn\n",
      "import nltk\n",
      "\n",
      "synsets = wn.synsets(\"cat\");\n",
      "syn = synsets[0]; \n",
      "print(\"Definition:    \" + syn.definition());\n",
      "porterSt = nltk.PorterStemmer();\n",
      "lancasterSt = nltk.LancasterStemmer();\n",
      "words = nltk.word_tokenize(syn.definition());\n",
      "pos = nltk.pos_tag(words);\n",
      "i = 0;\n",
      "for w in words:\n",
      "    if (w.isalpha()):\n",
      "        msg = w + \" : \" + porterSt.stem(w);\n",
      "        if (porterSt.stem(w) != lancasterSt.stem(w)):\n",
      "            msg += \" (porter) or \" + lancasterSt.stem(w) + \" (lancaster)\";\n",
      "        msg += \" -> \" + pos[i][1];\n",
      "        print(msg);\n",
      "    i += 1;"
     ],
     "language": "python",
     "metadata": {},
     "outputs": [
      {
       "output_type": "stream",
       "stream": "stdout",
       "text": [
        "Definition:    feline mammal usually having thick soft fur and no ability to roar: domestic cats; wildcats\n",
        "feline : felin -> NN"
       ]
      },
      {
       "output_type": "stream",
       "stream": "stdout",
       "text": [
        "\n",
        "mammal : mammal (porter) or mam (lancaster) -> NN\n",
        "usually : usual (porter) or us (lancaster) -> RB\n",
        "having : have (porter) or hav (lancaster) -> VBG\n",
        "thick : thick -> NN\n",
        "soft : soft -> NN\n",
        "fur : fur -> NN\n",
        "and : and -> CC\n",
        "no : no -> DT\n",
        "ability : abil (porter) or abl (lancaster) -> NN\n",
        "to : to -> TO\n",
        "roar : roar -> VB\n",
        "domestic : domest -> JJ\n",
        "cats : cat -> NNS\n",
        "wildcats : wildcat (porter) or wildc (lancaster) -> NNS\n"
       ]
      }
     ],
     "prompt_number": 1
    },
    {
     "cell_type": "heading",
     "level": 1,
     "metadata": {},
     "source": [
      "NLTK  free  program"
     ]
    },
    {
     "cell_type": "markdown",
     "metadata": {},
     "source": [
      "Join  the  examples  in  a  full  pipeline  that  given  a  string  (input)  split  sentences  tokenize  and  pos string  and  count  the  number  of  nouns  and  verbs"
     ]
    },
    {
     "cell_type": "code",
     "collapsed": false,
     "input": [
      "def countNounsAndVerbs(txt):\n",
      "    nouns = 0;\n",
      "    verbs = 0;\n",
      "    for sentence in nltk.sent_tokenize(txt):\n",
      "        words = nltk.word_tokenize(sentence);\n",
      "        for (w, pos) in nltk.pos_tag(words):\n",
      "            if (pos.startswith(\"N\")):\n",
      "                nouns += 1;\n",
      "            elif (pos.startswith(\"VB\")):\n",
      "                verbs += 1;\n",
      "    print(\"Number of nouns: \" + str(nouns));\n",
      "    print(\"Number of verbs: \" + str(verbs));\n",
      "\n",
      "countNounsAndVerbs(\"The idea of giving computers the ability to process human language is as old as the idea of computers themselves. This book is about the implementation and implications of that exciting idea. We introduce a vibrant interdisciplinary field with many names corresponding to its many facets, names like speech and language processing , human language technology , natural language processing , computational linguistics , and speech recognition and synthesis . The goal of this new field is to get computers to perform useful tasks involving human language, tasks like enabling human-machine communication, improving human-human communication, or simply doing useful processing of text or speech. \");"
     ],
     "language": "python",
     "metadata": {},
     "outputs": [
      {
       "output_type": "stream",
       "stream": "stdout",
       "text": [
        "Number of nouns: 39\n",
        "Number of verbs: 14\n"
       ]
      }
     ],
     "prompt_number": 2
    },
    {
     "cell_type": "heading",
     "level": 1,
     "metadata": {},
     "source": [
      "NLTK  Chart  parser"
     ]
    },
    {
     "cell_type": "markdown",
     "metadata": {},
     "source": [
      "There is an error in the grammar that you provided as you wrote \"VP \u2010> VBZ NN\" but it's actually \"VP -> VBZ NP\" instead..."
     ]
    },
    {
     "cell_type": "code",
     "collapsed": false,
     "input": [
      "from nltk import CFG  \n",
      "from nltk import ChartParser\n",
      "from nltk.tree import Tree\n",
      "\n",
      "grammar = CFG.fromstring(\"\"\"\n",
      "    S -> NP VP\n",
      "    NP -> DT NN\n",
      "    VP -> VBZ NP\n",
      "    \n",
      "    VBZ -> 'watches'\n",
      "    NN -> 'dog' | 'bone'\n",
      "    DT -> 'The'| 'a'\n",
      "\"\"\");\n",
      "\n",
      "sentence = \"The dog watches a bone\".split(\" \");\n",
      "cp = ChartParser(grammar);\n",
      "chart = cp.chart_parse(sentence);\n",
      "trees = list(chart.parses(grammar.start()));\n",
      "for tree in trees: \n",
      "    print(tree);"
     ],
     "language": "python",
     "metadata": {},
     "outputs": [
      {
       "output_type": "stream",
       "stream": "stdout",
       "text": [
        "(S (NP (DT The) (NN dog)) (VP (VBZ watches) (NP (DT a) (NN bone))))\n"
       ]
      }
     ],
     "prompt_number": 3
    },
    {
     "cell_type": "markdown",
     "metadata": {},
     "source": [
      "Write  a  small  CFG  grammar  (staring  with PoS of the words) to parse the sentence"
     ]
    },
    {
     "cell_type": "code",
     "collapsed": false,
     "input": [
      "grammar = CFG.fromstring(\"\"\"\n",
      "    S -> NP VP\n",
      "    NP -> DT NN | NNS | DT RB NN | RBS NNS | NP CC NP\n",
      "    VP -> VBZ | VBZ NP | VP CC VP\n",
      "    \n",
      "    VBZ -> 'eat' | 'chase'\n",
      "    NN -> 'dog' | 'cat'\n",
      "    NNS -> 'mouses'\n",
      "    DT -> 'The' | 'the'\n",
      "    RB -> 'ugly'\n",
      "    CC -> 'and'\n",
      "\"\"\");\n",
      "\n",
      "sentence = \"The ugly cat and the dog eat and chase mouses\".split(\" \");\n",
      "print(\"PoS of the words: \" + str(nltk.pos_tag(sentence)));\n",
      "cp = ChartParser(grammar);\n",
      "chart = cp.chart_parse(sentence);\n",
      "trees = list(chart.parses(grammar.start()));\n",
      "for tree in trees: \n",
      "    print(tree);"
     ],
     "language": "python",
     "metadata": {},
     "outputs": [
      {
       "output_type": "stream",
       "stream": "stdout",
       "text": [
        "PoS of the words: [('The', 'DT'), ('ugly', 'RB'), ('cat', 'JJ'), ('and', 'CC'), ('the', 'DT'), ('dog', 'NN'), ('eat', 'NN'), ('and', 'CC'), ('chase', 'NN'), ('mouses', 'NNS')]\n",
        "(S\n",
        "  (NP\n",
        "    (NP (DT The) (RB ugly) (NN cat))\n",
        "    (CC and)\n",
        "    (NP (DT the) (NN dog)))\n",
        "  (VP (VP (VBZ eat)) (CC and) (VP (VBZ chase) (NP (NNS mouses)))))\n"
       ]
      }
     ],
     "prompt_number": 4
    },
    {
     "cell_type": "heading",
     "level": 1,
     "metadata": {},
     "source": [
      "Chart Parser of PoS"
     ]
    },
    {
     "cell_type": "markdown",
     "metadata": {},
     "source": [
      "Use the output of the PoS tagger as input to the chart parser (only the PoS)"
     ]
    },
    {
     "cell_type": "code",
     "collapsed": false,
     "input": [
      "sentence = \"The dog watches a bone\";\n",
      "tags = [pos for (word, pos) in nltk.pos_tag(nltk.word_tokenize(sentence))];\n",
      "\n",
      "grammar = CFG.fromstring(\"\"\"\n",
      "    S -> NP VP\n",
      "    NP -> DT NN\n",
      "    VP -> VBZ NP\n",
      "    \n",
      "    VBZ -> 'VBZ'\n",
      "    NN -> 'NN'\n",
      "    DT -> 'DT'\n",
      "\"\"\");\n",
      "\n",
      "cp = ChartParser(grammar);\n",
      "chart = cp.chart_parse(tags);\n",
      "trees = list(chart.parses(grammar.start()));\n",
      "for tree in trees: \n",
      "    print(tree);\n",
      "    "
     ],
     "language": "python",
     "metadata": {},
     "outputs": [
      {
       "output_type": "stream",
       "stream": "stdout",
       "text": [
        "(S (NP (DT DT) (NN NN)) (VP (VBZ VBZ) (NP (DT DT) (NN NN))))\n"
       ]
      }
     ],
     "prompt_number": 5
    },
    {
     "cell_type": "code",
     "collapsed": false,
     "input": [
      "#nltk.app.srparser_app.app() \n",
      "from IPython.display import Image\n",
      "Image(filename='shift-reduce.png')"
     ],
     "language": "python",
     "metadata": {},
     "outputs": [
      {
       "metadata": {},
       "output_type": "pyout",
       "png": "[encoded data removed]",
       "prompt_number": 6,
       "text": [
        "<IPython.core.display.Image at 0x7fbe642cbef0>"
       ]
      }
     ],
     "prompt_number": 6
    }
   ],
   "metadata": {}
  }
 ]
}