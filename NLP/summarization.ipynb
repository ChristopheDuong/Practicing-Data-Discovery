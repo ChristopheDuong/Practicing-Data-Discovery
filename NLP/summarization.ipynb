{
 "metadata": {
  "name": "",
  "signature": "sha256:f037b93ce0f4919942083abc5e983ccad728ee94ef51d31139cdbbf29eb2afcc"
 },
 "nbformat": 3,
 "nbformat_minor": 0,
 "worksheets": [
  {
   "cells": [
    {
     "cell_type": "code",
     "collapsed": false,
     "input": [
      "import requests\n",
      "import pandas as pd\n",
      "import nltk\n",
      "\n",
      "%qtconsole"
     ],
     "language": "python",
     "metadata": {},
     "outputs": [],
     "prompt_number": 46
    },
    {
     "cell_type": "heading",
     "level": 1,
     "metadata": {},
     "source": [
      "Url to Summarize"
     ]
    },
    {
     "cell_type": "code",
     "collapsed": false,
     "input": [
      "url = 'http://en.wikipedia.org/wiki/A_Game_of_Thrones'\n",
      "#html = urlopen(url).read()  \n",
      "r = requests.get(url)\n",
      "html = r.text"
     ],
     "language": "python",
     "metadata": {},
     "outputs": [],
     "prompt_number": 47
    },
    {
     "cell_type": "heading",
     "level": 1,
     "metadata": {},
     "source": [
      "Extract text from HTML page"
     ]
    },
    {
     "cell_type": "code",
     "collapsed": false,
     "input": [
      "import nltk   \n",
      "from bs4 import BeautifulSoup\n",
      "\n",
      "soup = BeautifulSoup(html)\n",
      "\n",
      "# kill all script and style elements\n",
      "for script in soup([\"script\", \"style\"]):\n",
      "    script.extract()    # rip it out\n",
      "\n",
      "# get text\n",
      "text = soup.get_text()\n",
      "\n",
      "# break into lines and remove leading and trailing space on each\n",
      "lines = (line.strip() for line in text.splitlines())\n",
      "# break multi-headlines into a line each\n",
      "#chunks = (phrase.strip() for line in lines for phrase in line.split(\"  \"))\n",
      "# drop blank lines\n",
      "text = '\\n'.join(chunk for chunk in lines if chunk)\n"
     ],
     "language": "python",
     "metadata": {},
     "outputs": [],
     "prompt_number": 48
    },
    {
     "cell_type": "heading",
     "level": 1,
     "metadata": {},
     "source": [
      "Extract main information from sentences from text"
     ]
    },
    {
     "cell_type": "code",
     "collapsed": false,
     "input": [
      "wnl = nltk.WordNetLemmatizer()\n",
      "stemmer = nltk.PorterStemmer();\n",
      "\n",
      "sentenceData = []\n",
      "\n",
      "for sentence in nltk.sent_tokenize(text):\n",
      "    pos = nltk.pos_tag(nltk.word_tokenize(sentence));\n",
      "    if len(pos) > 0:\n",
      "        sentenceRow = {};\n",
      "        sentenceRow['original'] = sentence;\n",
      "        sentenceRow['pos'] = pos;\n",
      "        words = [];\n",
      "        anyVerbs = False;\n",
      "        for (key, value) in pos:\n",
      "            if value.startswith('NN') or value.startswith('JJ'):\n",
      "                words.append(stemmer.stem(wnl.lemmatize(key)));\n",
      "            elif value.startswith('VB') :\n",
      "                words.append(stemmer.stem(wnl.lemmatize(key)));\n",
      "                anyVerbs = True;\n",
      "        sentenceRow['concepts'] = words;\n",
      "        if (anyVerbs):\n",
      "            sentenceData.append(sentenceRow);\n"
     ],
     "language": "python",
     "metadata": {},
     "outputs": [],
     "prompt_number": 49
    },
    {
     "cell_type": "heading",
     "level": 1,
     "metadata": {},
     "source": [
      "Build network and compute pagerank"
     ]
    },
    {
     "cell_type": "code",
     "collapsed": false,
     "input": [
      "import math \n",
      "import networkx as nx\n",
      "\n",
      "G = nx.Graph()\n",
      "\n",
      "def computeSimilarity(vec1, vec2):\n",
      "    intersection = set(vec1) & set(vec2)\n",
      "    numerator = len(intersection)\n",
      "    sum1 = len(vec1)\n",
      "    sum2 = len(vec2)\n",
      "    denominator = math.sqrt(sum1) * math.sqrt(sum2)\n",
      "    if not denominator:\n",
      "       return 0.0\n",
      "    else:\n",
      "       return float(numerator) / denominator\n",
      "\n",
      "for i in range(len(sentenceData)):\n",
      "    for j in range(len(sentenceData)):\n",
      "        if i < j:\n",
      "            s1 = sentenceData[i]\n",
      "            s2 = sentenceData[j]\n",
      "            simScore = computeSimilarity(s1['concepts'], s2['concepts']);\n",
      "            if (simScore > 0.1):\n",
      "                #print(s1['original'])\n",
      "                #print '=='\n",
      "                #print(s2['original'])\n",
      "                #print '----------------'\n",
      "                G.add_node(s1['original'])\n",
      "                G.add_node(s2['original'])\n",
      "                G.add_edge(s1['original'], s2['original'])\n",
      "scores = nx.pagerank(G);"
     ],
     "language": "python",
     "metadata": {},
     "outputs": [],
     "prompt_number": 50
    },
    {
     "cell_type": "heading",
     "level": 1,
     "metadata": {},
     "source": [
      "Traverse text and print relevant sentences"
     ]
    },
    {
     "cell_type": "markdown",
     "metadata": {},
     "source": [
      "You can play with the pagerank Threshold to get a shorter or longer summary. (the numbers at the start of the line shows how many sentences have been selected as part of the summary against how many sentences are coming from original text)"
     ]
    },
    {
     "cell_type": "code",
     "collapsed": false,
     "input": [
      "i = 0;\n",
      "j = 0;\n",
      "pagerankThreshold = 0.013;\n",
      "\n",
      "for sentence in nltk.sent_tokenize(text):\n",
      "    if sentence in scores and scores[sentence] > pagerankThreshold:\n",
      "        print str(i) + \"/\" + str(j) + \": \" + sentence;\n",
      "        i += 1\n",
      "    j += 1"
     ],
     "language": "python",
     "metadata": {},
     "outputs": [
      {
       "output_type": "stream",
       "stream": "stdout",
       "text": [
        "0/1: For the TV series, see Game of Thrones.\n",
        "1/3: A Game of Thrones\n",
        "US hardcover (first edition)\n",
        "Author\n",
        "George R. R. Martin\n",
        "Cover\u00a0artist\n",
        "Steve Youll\n",
        "Country\n",
        "United States\n",
        "Series\n",
        "A Song of Ice and Fire\n",
        "Genre\n",
        "Fantasy, political strategy, epic fantasy\n",
        "Published\n",
        "August 6, 1996 (Bantam Spectra/US & Voyager Books/UK)\n",
        "ISBN\n",
        "ISBN 0-553-10354-7 (US hardback)\n",
        "ISBN 0-00-224584-1 (UK hardback)\n",
        "ISBN 0-553-57340-3 (US paperback)\n",
        "OCLC\n",
        "654895986\n",
        "Dewey Decimal\n",
        "813/.54\n",
        "LC\u00a0Class\n",
        "PS3563.A7239 G36 1996\n",
        "Followed\u00a0by\n",
        "A Clash of Kings\n",
        "A Game of Thrones is the first novel in A Song of Ice and Fire, a series of high fantasy novels by American author George R. R. Martin.\n",
        "2/10: It is also the basis for the first season of Game of Thrones, an HBO television series that premiered in April 2011.\n",
        "3/11: A March 2013 paperback TV tie-in re-edition was also titled Game of Thrones, excluding the indefinite article \"A\".\n",
        "4/13: Contents\n",
        "1 Plot\n",
        "1.1 In the Seven Kingdoms\n",
        "1.2 On the Wall\n",
        "1.3 In the East\n",
        "2 Viewpoint characters\n",
        "3 Editions\n",
        "4 Adaptations\n",
        "5 Reception\n",
        "6 Awards and nominations\n",
        "7 References\n",
        "8 External links\n",
        "Plot[edit]\n",
        "A Game of Thrones follows three principal storylines simultaneously.\n",
        "5/14: In the Seven Kingdoms[edit]\n",
        "At the beginning of the story, Lord Eddard \"Ned\" Stark executes a deserter from the Night's Watch, the main force for keeping out the dangers north of the Wall, a huge structure of ice, stone, and magic that protects the Seven Kingdoms.\n",
        "6/17: That night, he receives word of the death of his mentor, Lord Jon Arryn, who had been a close advisor to Ned's childhood friend, King Robert Baratheon.\n",
        "7/18: During a subsequent royal visit to Ned's isolated northern castle, Winterfell, Robert recruits Ned to replace Arryn as the King's Hand.\n",
        "8/19: Ned is at first reluctant, but agrees to go when he learns that Arryn's widow Lysa believes Queen Cersei and her family poisoned Arryn.\n",
        "9/20: Shortly thereafter, Ned's son Bran inadvertently discovers Cersei having sex with her twin brother Jaime Lannister, who throws Bran from the tower to conceal the secret.\n",
        "10/22: During the journey south, a physical altercation between Arya and Robert's son, Prince Joffrey, to whom Sansa has been betrothed, increases both the tension between the Starks and the Lannisters and the sibling rivalry between Arya and Sansa.\n",
        "11/24: Meanwhile, at Winterfell, an assassin hired by an unknown party attempts to kill Bran, and Catelyn departs for King's Landing to bring word of this newest complication to Ned.\n",
        "12/28: Upon Catelyn's arrival in King's Landing, she is brought to Baelish, who was a childhood friend of hers, who identifies Tyrion Lannister, the dwarf brother of Cersei and Jaime, as the owner of the dagger used against Bran.\n",
        "13/33: Ned eventually discovers that Robert's legal heirs, including Joffrey, are in fact Cersei's children by Jaime, apparently the secret that Jon Arryn had died for.\n",
        "14/34: Ned offers Cersei a chance to flee her certain execution before he informs Robert, but she uses his attempt at mercy to arrange for Robert's death in a hunting accident.\n",
        "15/35: Ned, made lord-regent by Robert's will, enlists Littlefinger's help to secure the loyalty and assistance of the city guards when he eventually challenges Joffrey's claim on the throne.\n",
        "16/38: Joffrey is crowned King of the Seven Kingdoms.\n",
        "17/39: Ned eventually agrees to swear fealty to Joffrey, accept exile and join the Night's Watch in exchange for Sansa's safety.\n",
        "18/40: A petulant Joffrey has him beheaded anyway.\n",
        "19/43: Robb proves victorious in an eventual confrontation between his army and Jaime Lannister, whose father Tywin is left in a vulnerable position.\n",
        "20/50: All of the Rangers are killed except a single survivor who flees south and is later executed by Eddard Stark for desertion.\n",
        "21/51: Jon Snow, the bastard son of Eddard Stark, is inspired by his uncle, Benjen Stark, to join the Night's Watch, but becomes disillusioned when he discovers that it is little more than a penal colony meant to keep \"wildlings\" (human tribesmen in relative anarchy north of the Wall) in check.\n",
        "22/53: Jon hopes that his combat skills will earn him assignment to the Rangers, the military arm of the Night's Watch, but instead is made a steward to the leader of the Watch, Lord Commander Jeor Mormont, who sees command potential in Jon.\n",
        "23/55: Nearly six months later after Benjen's disappearance, the dead bodies of two of the Rangers from his party are recovered beyond the Wall; their corpses soon re-animate as wights, which kill six men and threaten Mormont, who is saved by Jon.\n",
        "24/56: When word of his father's execution reaches Jon, he attempts to join his half-brother Robb against the Lannisters, but is prevented by his comrades and persuaded by Mormont to remain loyal to the Watch.\n",
        "25/58: In the East[edit]\n",
        "In Pentos, a city-state of Essos, a continent to the east of Westeros, Viserys Targaryen, son of the king overthrown by Robert Baratheon, betroths his sister Daenerys to Khal Drogo, a warlord of the nomadic Dothraki, in exchange for use of Drogo's army to reclaim the throne of Westeros.\n",
        "26/61: Initially terrified of her powerful new husband and his alien people, Daenerys eventually settles into her place as Drogo's queen.\n",
        "27/63: When a frustrated and imperious Viserys publicly threatens the pregnant Daenerys, Drogo executes him.\n",
        "28/66: An assassin seeking King Robert's favor attempts to poison Daenerys and her unborn child, and a vengeful Drogo agrees to help her conquer Westeros.\n",
        "29/87: Editions[edit]\n",
        "The novel has been published in multiple editions in hardcover, paperback, audio book and e-book form.\n",
        "30/89: [6]\n",
        "Adaptations[edit]\n",
        "Main article: Works based on A Song of Ice and Fire\n",
        "A Game of Thrones and the subsequent novels in the A Song of Ice and Fire series have been adapted in a HBO television series, a comics series, several card, board and video games, and other media.\n",
        "31/90: Reception[edit]\n",
        "A Game of Thrones has received much critical acclaim.\n"
       ]
      }
     ],
     "prompt_number": 53
    }
   ],
   "metadata": {}
  }
 ]
}