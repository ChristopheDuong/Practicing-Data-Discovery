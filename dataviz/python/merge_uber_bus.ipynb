{
 "metadata": {
  "name": "",
  "signature": "sha256:7e1489050bfa1cea017523435434da899eedec3a4e3b503b25a5690a1635825a"
 },
 "nbformat": 3,
 "nbformat_minor": 0,
 "worksheets": [
  {
   "cells": [
    {
     "cell_type": "heading",
     "level": 1,
     "metadata": {},
     "source": [
      "Merge data from the bus and uber data sets "
     ]
    },
    {
     "cell_type": "markdown",
     "metadata": {},
     "source": [
      "Using the bus lines data set and the Uber trips data sets, we produce an enriched data set where we compute additional/theoritical information about the uber trips if it was done using the bus instead.\n",
      "For each trips, we compute the maximum distance that the customer would have to walk to/from every closest bus line's stops and how much time it would take him on the bus to get to his destination (maybe add an estimate time for walking to the stop based on a constant walking speed).\n",
      "We should also have a column telling which bus line would be the closest one to use as alternative to the uber ride."
     ]
    },
    {
     "cell_type": "code",
     "collapsed": false,
     "input": [
      "# FIXME"
     ],
     "language": "python",
     "metadata": {},
     "outputs": [],
     "prompt_number": 1
    }
   ],
   "metadata": {}
  }
 ]
}