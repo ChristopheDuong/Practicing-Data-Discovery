{
 "metadata": {
  "name": "",
  "signature": "sha256:90e22fb92493312acc5b5884a58e39a9463686f883933c395ff95183f0f7ff6c"
 },
 "nbformat": 3,
 "nbformat_minor": 0,
 "worksheets": [
  {
   "cells": [
    {
     "cell_type": "heading",
     "level": 1,
     "metadata": {},
     "source": [
      "Extract Bus Data from API"
     ]
    },
    {
     "cell_type": "markdown",
     "metadata": {},
     "source": [
      "This python notebook uses API from webservices provided by nextbus.com in order to download, extract and store the data about the current bus network deployed in cities in local files to be used for further analysis afterward."
     ]
    },
    {
     "cell_type": "code",
     "collapsed": false,
     "input": [
      "import requests\n",
      "import xml.etree.ElementTree as ET\n",
      "import pandas as pd\n",
      "\n",
      "url = 'http://webservices.nextbus.com/service/publicXMLFeed?command=agencyList';\n",
      "r = requests.get(url);\n",
      "\n",
      "def extractData(nodeName, r):\n",
      "    root = ET.fromstring(r.text);\n",
      "    data =  {}\n",
      "    for node in root.iter(nodeName):\n",
      "        for key in node.attrib:\n",
      "            if key not in data:\n",
      "                data[key] = [];\n",
      "            data[key].append(node.attrib[key]);\n",
      "    maxLen = 0;\n",
      "    for key in data:\n",
      "        if maxLen < len(data[key]):\n",
      "            maxLen = len(data[key]);\n",
      "    toRemove = [];\n",
      "    for key in data:\n",
      "        if len(data[key]) < maxLen:\n",
      "            toRemove.append(key);\n",
      "    for key in toRemove:\n",
      "        del data[key];\n",
      "    df = pd.DataFrame(data);\n",
      "    return df;\n",
      "\n",
      "df = extractData(\"agency\", r);\n",
      "df.to_csv(\"../data/agencyList.csv\");\n",
      "df.head(5)"
     ],
     "language": "python",
     "metadata": {},
     "outputs": [
      {
       "html": [
        "<div style=\"max-height:1000px;max-width:1500px;overflow:auto;\">\n",
        "<table border=\"1\" class=\"dataframe\">\n",
        "  <thead>\n",
        "    <tr style=\"text-align: right;\">\n",
        "      <th></th>\n",
        "      <th>regionTitle</th>\n",
        "      <th>tag</th>\n",
        "      <th>title</th>\n",
        "    </tr>\n",
        "  </thead>\n",
        "  <tbody>\n",
        "    <tr>\n",
        "      <th>0</th>\n",
        "      <td> California-Northern</td>\n",
        "      <td> actransit</td>\n",
        "      <td>                            AC Transit</td>\n",
        "    </tr>\n",
        "    <tr>\n",
        "      <th>1</th>\n",
        "      <td>            Maryland</td>\n",
        "      <td>   jhu-apl</td>\n",
        "      <td>                                   APL</td>\n",
        "    </tr>\n",
        "    <tr>\n",
        "      <th>2</th>\n",
        "      <td>      North Carolina</td>\n",
        "      <td>       art</td>\n",
        "      <td>           Asheville Redefines Transit</td>\n",
        "    </tr>\n",
        "    <tr>\n",
        "      <th>3</th>\n",
        "      <td>        Pennsylvania</td>\n",
        "      <td>   calu-pa</td>\n",
        "      <td> California University of Pennsylvania</td>\n",
        "    </tr>\n",
        "    <tr>\n",
        "      <th>4</th>\n",
        "      <td> California-Southern</td>\n",
        "      <td> camarillo</td>\n",
        "      <td>                  Camarillo Area (CAT)</td>\n",
        "    </tr>\n",
        "  </tbody>\n",
        "</table>\n",
        "</div>"
       ],
       "metadata": {},
       "output_type": "pyout",
       "prompt_number": 33,
       "text": [
        "           regionTitle        tag                                  title\n",
        "0  California-Northern  actransit                             AC Transit\n",
        "1             Maryland    jhu-apl                                    APL\n",
        "2       North Carolina        art            Asheville Redefines Transit\n",
        "3         Pennsylvania    calu-pa  California University of Pennsylvania\n",
        "4  California-Southern  camarillo                   Camarillo Area (CAT)"
       ]
      }
     ],
     "prompt_number": 33
    },
    {
     "cell_type": "markdown",
     "metadata": {},
     "source": [
      "Let's focus the extraction from San Francisco Bus network which is served by muni with the tag sf-muni:"
     ]
    },
    {
     "cell_type": "code",
     "collapsed": false,
     "input": [
      "url = 'http://webservices.nextbus.com/service/publicXMLFeed?command=routeList&a=sf-muni';\n",
      "r = requests.get(url);\n",
      "\n",
      "df = extractData(\"route\", r);\n",
      "df.to_csv(\"../data/sf-muni_routes.csv\");\n",
      "df.head(5)"
     ],
     "language": "python",
     "metadata": {},
     "outputs": [
      {
       "html": [
        "<div style=\"max-height:1000px;max-width:1500px;overflow:auto;\">\n",
        "<table border=\"1\" class=\"dataframe\">\n",
        "  <thead>\n",
        "    <tr style=\"text-align: right;\">\n",
        "      <th></th>\n",
        "      <th>tag</th>\n",
        "      <th>title</th>\n",
        "    </tr>\n",
        "  </thead>\n",
        "  <tbody>\n",
        "    <tr>\n",
        "      <th>0</th>\n",
        "      <td>  F</td>\n",
        "      <td>        F-Market &amp; Wharves</td>\n",
        "    </tr>\n",
        "    <tr>\n",
        "      <th>1</th>\n",
        "      <td>  J</td>\n",
        "      <td>                  J-Church</td>\n",
        "    </tr>\n",
        "    <tr>\n",
        "      <th>2</th>\n",
        "      <td> KT</td>\n",
        "      <td> KT-Ingleside/Third Street</td>\n",
        "    </tr>\n",
        "    <tr>\n",
        "      <th>3</th>\n",
        "      <td>  L</td>\n",
        "      <td>                 L-Taraval</td>\n",
        "    </tr>\n",
        "    <tr>\n",
        "      <th>4</th>\n",
        "      <td>  M</td>\n",
        "      <td>              M-Ocean View</td>\n",
        "    </tr>\n",
        "  </tbody>\n",
        "</table>\n",
        "</div>"
       ],
       "metadata": {},
       "output_type": "pyout",
       "prompt_number": 34,
       "text": [
        "  tag                      title\n",
        "0   F         F-Market & Wharves\n",
        "1   J                   J-Church\n",
        "2  KT  KT-Ingleside/Third Street\n",
        "3   L                  L-Taraval\n",
        "4   M               M-Ocean View"
       ]
      }
     ],
     "prompt_number": 34
    },
    {
     "cell_type": "markdown",
     "metadata": {},
     "source": [
      "Retrieve the data from all the routes currently in use in San Francisco by Muni:"
     ]
    },
    {
     "cell_type": "code",
     "collapsed": false,
     "input": [
      "import xml.dom.minidom\n",
      "\n",
      "url = \"http://webservices.nextbus.com/service/publicXMLFeed?command=routeConfig&a=sf-muni&r=\";\n",
      "\n",
      "for tag in df['tag']:\n",
      "    r = requests.get(url + tag);\n",
      "    xmlResult = xml.dom.minidom.parseString(r.text)\n",
      "    f = open(\"../data/route_sf-muni_\" + tag + \".xml\", 'w');\n",
      "    f.write(xmlResult.toprettyxml());\n",
      "    f.close();"
     ],
     "language": "python",
     "metadata": {},
     "outputs": [],
     "prompt_number": 40
    },
    {
     "cell_type": "markdown",
     "metadata": {},
     "source": [
      "Transform xml files into data frames"
     ]
    },
    {
     "cell_type": "code",
     "collapsed": false,
     "input": [
      "index = []; # stopId, example: 13941\n",
      "\n",
      "data = {\n",
      "    \"tag\" : [], # example: 30\n",
      "    \"title\" : [], # example: \"Chestnut St &amp; Fillmore St\"\n",
      "    \"direction\" : [], # example: \"Outbound to the Marina District\"\n",
      "    \"order\" : [], # example: 30\n",
      "    \"lat\" : [], # example: 37.8009099\n",
      "    \"lon\" : [] # example: -122.43618\n",
      "}\n",
      "    \n",
      "# FIXME: transform xml files into the data structure\n",
      "    \n",
      "df = pd.DataFrame(data, index=index);\n",
      "df.to_csv(\"../data/bus.csv\");\n",
      "df.head(5)"
     ],
     "language": "python",
     "metadata": {},
     "outputs": []
    },
    {
     "cell_type": "markdown",
     "metadata": {},
     "source": [
      "We need to produce a second file with only the path information:\n",
      "probably a Json that would like like this:"
     ]
    },
    {
     "cell_type": "code",
     "collapsed": false,
     "input": [
      "{\n",
      "    \"tag\" : \"30\",\n",
      "    \"path\" : [\n",
      "        {\n",
      "            \"direction\" : \"inbound\",\n",
      "            \"segments\" : []\n",
      "        },\n",
      "        {\n",
      "            \"direction\" : \"outbound\",\n",
      "            \"segments\" : []\n",
      "        }\n",
      "    ] \n",
      "}"
     ],
     "language": "python",
     "metadata": {},
     "outputs": []
    },
    {
     "cell_type": "code",
     "collapsed": false,
     "input": [
      "# FIXME produce path file"
     ],
     "language": "python",
     "metadata": {},
     "outputs": [],
     "prompt_number": 1
    },
    {
     "cell_type": "markdown",
     "metadata": {},
     "source": [
      "Enrich data with average time between stops (for example how much time to get to the next stop) using: https://data.sfgov.org/Transportation/Raw-AVL-GPS-data/5fk7-ivit"
     ]
    },
    {
     "cell_type": "code",
     "collapsed": false,
     "input": [
      "# FIXME add column with between stop average time duration"
     ],
     "language": "python",
     "metadata": {},
     "outputs": []
    }
   ],
   "metadata": {}
  }
 ]
}